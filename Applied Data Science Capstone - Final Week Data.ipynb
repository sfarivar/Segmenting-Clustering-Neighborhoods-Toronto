{
    "cells": [
        {
            "cell_type": "markdown",
            "metadata": {
                "collapsed": true
            },
            "source": "# Opening a New Restaurant in Arts District, Los Angeles\n"
        },
        {
            "cell_type": "code",
            "execution_count": 1,
            "metadata": {},
            "outputs": [
                {
                    "name": "stdout",
                    "output_type": "stream",
                    "text": "Libraries imported.\n"
                }
            ],
            "source": "import numpy as np\nimport pandas as pd\n\nimport requests\nfrom bs4 import BeautifulSoup \n\nfrom geopy.geocoders import Nominatim # convert an address into latitude and longitude values\n#!pip install geocoder\n\nfrom pandas.io.json import json_normalize\n\nimport json\n\n\nfrom sklearn.cluster import KMeans\n\nimport matplotlib.cm as cm\nimport matplotlib.colors as colors\n\n\n\nprint('Libraries imported.')"
        },
        {
            "cell_type": "markdown",
            "metadata": {},
            "source": "## 1. Scrap data from Wikopedia page into a dataframe"
        },
        {
            "cell_type": "code",
            "execution_count": 2,
            "metadata": {},
            "outputs": [
                {
                    "data": {
                        "text/html": "<div>\n<style scoped>\n    .dataframe tbody tr th:only-of-type {\n        vertical-align: middle;\n    }\n\n    .dataframe tbody tr th {\n        vertical-align: top;\n    }\n\n    .dataframe thead th {\n        text-align: right;\n    }\n</style>\n<table border=\"1\" class=\"dataframe\">\n  <thead>\n    <tr style=\"text-align: right;\">\n      <th></th>\n      <th>Neighborhood</th>\n    </tr>\n  </thead>\n  <tbody>\n    <tr>\n      <th>0</th>\n      <td>Arts District[36]</td>\n    </tr>\n    <tr>\n      <th>1</th>\n      <td>Bunker Hill[34]</td>\n    </tr>\n    <tr>\n      <th>2</th>\n      <td>Civic Center[34] (built on the razed site of t...</td>\n    </tr>\n    <tr>\n      <th>3</th>\n      <td>Fashion District[34]</td>\n    </tr>\n    <tr>\n      <th>4</th>\n      <td>Financial District</td>\n    </tr>\n    <tr>\n      <th>5</th>\n      <td>Flower District</td>\n    </tr>\n    <tr>\n      <th>6</th>\n      <td>Gallery Row</td>\n    </tr>\n    <tr>\n      <th>7</th>\n      <td>Historic Core (contains the Broadway Theater D...</td>\n    </tr>\n    <tr>\n      <th>8</th>\n      <td>Industrial District[34]</td>\n    </tr>\n    <tr>\n      <th>9</th>\n      <td>Jewelry District[34]</td>\n    </tr>\n    <tr>\n      <th>10</th>\n      <td>Little Tokyo[34]</td>\n    </tr>\n    <tr>\n      <th>11</th>\n      <td>Skid Row[34]</td>\n    </tr>\n    <tr>\n      <th>12</th>\n      <td>South Park[34]</td>\n    </tr>\n    <tr>\n      <th>13</th>\n      <td>Toy District</td>\n    </tr>\n    <tr>\n      <th>14</th>\n      <td>Wholesale District or Warehouse District</td>\n    </tr>\n  </tbody>\n</table>\n</div>",
                        "text/plain": "                                         Neighborhood\n0                                   Arts District[36]\n1                                     Bunker Hill[34]\n2   Civic Center[34] (built on the razed site of t...\n3                                Fashion District[34]\n4                                  Financial District\n5                                     Flower District\n6                                         Gallery Row\n7   Historic Core (contains the Broadway Theater D...\n8                             Industrial District[34]\n9                                Jewelry District[34]\n10                                   Little Tokyo[34]\n11                                       Skid Row[34]\n12                                     South Park[34]\n13                                       Toy District\n14           Wholesale District or Warehouse District"
                    },
                    "execution_count": 2,
                    "metadata": {},
                    "output_type": "execute_result"
                }
            ],
            "source": "LA_data = requests.get('https://en.wikipedia.org/wiki/Downtown_Los_Angeles#Districts').text\n\n# parse data from the html into a beautifulsoup object\nsoup = BeautifulSoup(LA_data, 'html.parser')\n\n# create a list to store district data\nneighborhoodList = []\n\n\n# append the data into the list\nfor row in soup.find_all(\"div\", class_=\"div-col\")[0].findAll(\"li\"):\n    neighborhoodList.append(row.text)\n# create a new DataFrame from the list\ndf = pd.DataFrame({\"Neighborhood\": neighborhoodList})\n\ndf.head(20)"
        },
        {
            "cell_type": "code",
            "execution_count": 3,
            "metadata": {},
            "outputs": [
                {
                    "data": {
                        "text/plain": "(15, 1)"
                    },
                    "execution_count": 3,
                    "metadata": {},
                    "output_type": "execute_result"
                }
            ],
            "source": "df.shape"
        },
        {
            "cell_type": "markdown",
            "metadata": {},
            "source": "## 2. Get the geographical coodinates"
        },
        {
            "cell_type": "markdown",
            "metadata": {},
            "source": "#### The geographic coordinate of Los Angeles"
        },
        {
            "cell_type": "code",
            "execution_count": 4,
            "metadata": {},
            "outputs": [
                {
                    "name": "stdout",
                    "output_type": "stream",
                    "text": "The geograpical coordinate of Los Angeles are 34.0536909, -118.242766.\n"
                }
            ],
            "source": "address = \"Los Angeles, US\"\n\ngeolocator = Nominatim(user_agent=\"us_explorer\")\nlocation = geolocator.geocode(address)\nlatitude = location.latitude\nlongitude = location.longitude\nprint('The geograpical coordinate of Los Angeles are {}, {}.'.format(latitude, longitude))"
        },
        {
            "cell_type": "markdown",
            "metadata": {},
            "source": "#### The Geographic coordinates of LA districts"
        },
        {
            "cell_type": "code",
            "execution_count": 8,
            "metadata": {},
            "outputs": [],
            "source": "# define a function to get coordinates\n#!pip install geocoder\n#print('geocoder installed.')\nimport geocoder\n\ndef get_latlng(neighborhood):\n    # initialize your variable to None\n    lat_lng_coords = None\n    # loop until you get the coordinates\n    while(lat_lng_coords is None):\n        g = geocoder.arcgis('{}, Los Angeles , US'.format(neighborhood))\n        lat_lng_coords = g.latlng\n    return lat_lng_coords"
        },
        {
            "cell_type": "code",
            "execution_count": 9,
            "metadata": {},
            "outputs": [
                {
                    "data": {
                        "text/plain": "[[34.041964000000064, -118.23638699999998],\n [34.05202000000003, -118.25035999999994],\n [34.05361000000005, -118.24549999999999],\n [34.03731000000005, -118.25276999999994],\n [37.795780000000036, -122.40047999999996],\n [34.04021000000006, -118.24939999999998],\n [34.10080000000005, -118.42613999999998],\n [34.05361000000005, -118.24549999999999],\n [43.059242700101315, -83.30750289711257],\n [28.475250000000074, -16.440609999999936],\n [34.04939200000007, -118.24057899999997],\n [34.05361000000005, -118.24549999999999],\n [33.99186599254229, -118.47637999731879],\n [34.04802500000005, -118.25844699999999],\n [36.000230000000045, -78.90555999999998]]"
                    },
                    "execution_count": 9,
                    "metadata": {},
                    "output_type": "execute_result"
                }
            ],
            "source": "coords = [ get_latlng(neighborhood) for neighborhood in df[\"Neighborhood\"].tolist() ]\ncoords"
        },
        {
            "cell_type": "code",
            "execution_count": 10,
            "metadata": {},
            "outputs": [],
            "source": "df_coords = pd.DataFrame(coords, columns=['Latitude', 'Longitude'])\n"
        },
        {
            "cell_type": "code",
            "execution_count": 11,
            "metadata": {},
            "outputs": [],
            "source": "df['Latitude'] = df_coords['Latitude']\ndf['Longitude'] = df_coords['Longitude']"
        },
        {
            "cell_type": "code",
            "execution_count": 12,
            "metadata": {},
            "outputs": [
                {
                    "data": {
                        "text/html": "<div>\n<style scoped>\n    .dataframe tbody tr th:only-of-type {\n        vertical-align: middle;\n    }\n\n    .dataframe tbody tr th {\n        vertical-align: top;\n    }\n\n    .dataframe thead th {\n        text-align: right;\n    }\n</style>\n<table border=\"1\" class=\"dataframe\">\n  <thead>\n    <tr style=\"text-align: right;\">\n      <th></th>\n      <th>Neighborhood</th>\n      <th>Latitude</th>\n      <th>Longitude</th>\n    </tr>\n  </thead>\n  <tbody>\n    <tr>\n      <th>0</th>\n      <td>Arts District[36]</td>\n      <td>34.041964</td>\n      <td>-118.236387</td>\n    </tr>\n    <tr>\n      <th>1</th>\n      <td>Bunker Hill[34]</td>\n      <td>34.052020</td>\n      <td>-118.250360</td>\n    </tr>\n    <tr>\n      <th>2</th>\n      <td>Civic Center[34] (built on the razed site of t...</td>\n      <td>34.053610</td>\n      <td>-118.245500</td>\n    </tr>\n    <tr>\n      <th>3</th>\n      <td>Fashion District[34]</td>\n      <td>34.037310</td>\n      <td>-118.252770</td>\n    </tr>\n    <tr>\n      <th>4</th>\n      <td>Financial District</td>\n      <td>37.795780</td>\n      <td>-122.400480</td>\n    </tr>\n    <tr>\n      <th>5</th>\n      <td>Flower District</td>\n      <td>34.040210</td>\n      <td>-118.249400</td>\n    </tr>\n    <tr>\n      <th>6</th>\n      <td>Gallery Row</td>\n      <td>34.100800</td>\n      <td>-118.426140</td>\n    </tr>\n    <tr>\n      <th>7</th>\n      <td>Historic Core (contains the Broadway Theater D...</td>\n      <td>34.053610</td>\n      <td>-118.245500</td>\n    </tr>\n    <tr>\n      <th>8</th>\n      <td>Industrial District[34]</td>\n      <td>43.059243</td>\n      <td>-83.307503</td>\n    </tr>\n    <tr>\n      <th>9</th>\n      <td>Jewelry District[34]</td>\n      <td>28.475250</td>\n      <td>-16.440610</td>\n    </tr>\n    <tr>\n      <th>10</th>\n      <td>Little Tokyo[34]</td>\n      <td>34.049392</td>\n      <td>-118.240579</td>\n    </tr>\n    <tr>\n      <th>11</th>\n      <td>Skid Row[34]</td>\n      <td>34.053610</td>\n      <td>-118.245500</td>\n    </tr>\n    <tr>\n      <th>12</th>\n      <td>South Park[34]</td>\n      <td>33.991866</td>\n      <td>-118.476380</td>\n    </tr>\n    <tr>\n      <th>13</th>\n      <td>Toy District</td>\n      <td>34.048025</td>\n      <td>-118.258447</td>\n    </tr>\n    <tr>\n      <th>14</th>\n      <td>Wholesale District or Warehouse District</td>\n      <td>36.000230</td>\n      <td>-78.905560</td>\n    </tr>\n  </tbody>\n</table>\n</div>",
                        "text/plain": "                                         Neighborhood   Latitude   Longitude\n0                                   Arts District[36]  34.041964 -118.236387\n1                                     Bunker Hill[34]  34.052020 -118.250360\n2   Civic Center[34] (built on the razed site of t...  34.053610 -118.245500\n3                                Fashion District[34]  34.037310 -118.252770\n4                                  Financial District  37.795780 -122.400480\n5                                     Flower District  34.040210 -118.249400\n6                                         Gallery Row  34.100800 -118.426140\n7   Historic Core (contains the Broadway Theater D...  34.053610 -118.245500\n8                             Industrial District[34]  43.059243  -83.307503\n9                                Jewelry District[34]  28.475250  -16.440610\n10                                   Little Tokyo[34]  34.049392 -118.240579\n11                                       Skid Row[34]  34.053610 -118.245500\n12                                     South Park[34]  33.991866 -118.476380\n13                                       Toy District  34.048025 -118.258447\n14           Wholesale District or Warehouse District  36.000230  -78.905560"
                    },
                    "execution_count": 12,
                    "metadata": {},
                    "output_type": "execute_result"
                }
            ],
            "source": "df"
        },
        {
            "cell_type": "code",
            "execution_count": null,
            "metadata": {},
            "outputs": [],
            "source": ""
        }
    ],
    "metadata": {
        "kernelspec": {
            "display_name": "Python 3.7",
            "language": "python",
            "name": "python3"
        },
        "language_info": {
            "codemirror_mode": {
                "name": "ipython",
                "version": 3
            },
            "file_extension": ".py",
            "mimetype": "text/x-python",
            "name": "python",
            "nbconvert_exporter": "python",
            "pygments_lexer": "ipython3",
            "version": "3.7.9"
        }
    },
    "nbformat": 4,
    "nbformat_minor": 1
}